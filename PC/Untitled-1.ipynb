{
 "cells": [
  {
   "cell_type": "code",
   "execution_count": 1,
   "metadata": {},
   "outputs": [],
   "source": [
    "import cv2\n",
    "import time\n",
    "\n",
    "from ultralytics import YOLO\n",
    "import onnx\n",
    "\n",
    "import matplotlib.pyplot as plt\n",
    "\n",
    "import torch"
   ]
  },
  {
   "cell_type": "code",
   "execution_count": 2,
   "metadata": {},
   "outputs": [],
   "source": [
    "device = torch.device('cuda:0' if torch.cuda.is_available() else 'cpu')\n",
    "\n",
    "pt_file = 'yolov8n.pt'\n",
    "model = YOLO(pt_file)"
   ]
  },
  {
   "cell_type": "code",
   "execution_count": 3,
   "metadata": {},
   "outputs": [],
   "source": [
    "img_path = \"./data/test/yellow-audi899johme.png\"\n",
    "img_path = \"./data/test/car-and-bus.jpg\"\n",
    "img = cv2.imread(img_path)"
   ]
  },
  {
   "cell_type": "code",
   "execution_count": 19,
   "metadata": {},
   "outputs": [
    {
     "name": "stdout",
     "output_type": "stream",
     "text": [
      "\n",
      "0: 384x640 8 cars, 1 bus, 1 truck, 7.2ms\n",
      "Speed: 4.2ms preprocess, 7.2ms inference, 1.2ms postprocess per image at shape (1, 3, 384, 640)\n",
      "Results saved to \u001b[1md:\\code\\python\\ultralytics_grayimage\\runs\\detect\\predict37\u001b[0m\n",
      "1 label saved to d:\\code\\python\\ultralytics_grayimage\\runs\\detect\\predict37\\labels\n"
     ]
    }
   ],
   "source": [
    "results = model.predict(source=img, save=True, save_txt=True, show_conf=True)"
   ]
  },
  {
   "cell_type": "code",
   "execution_count": 16,
   "metadata": {},
   "outputs": [
    {
     "name": "stdout",
     "output_type": "stream",
     "text": [
      "\n",
      "0: 384x640 8 cars, 1 bus, 1 truck, 6.8ms\n",
      "Speed: 0.2ms preprocess, 6.8ms inference, 1.0ms postprocess per image at shape (1, 3, 384, 640)\n",
      "Results saved to \u001b[1md:\\code\\python\\ultralytics_grayimage\\runs\\detect\\predict37\u001b[0m\n",
      "1 label saved to d:\\code\\python\\ultralytics_grayimage\\runs\\detect\\predict37\\labels\n"
     ]
    }
   ],
   "source": [
    "results = model.predict(source=img, save=True, save_txt=True, show_conf=True)"
   ]
  }
 ],
 "metadata": {
  "kernelspec": {
   "display_name": "Python 3",
   "language": "python",
   "name": "python3"
  },
  "language_info": {
   "codemirror_mode": {
    "name": "ipython",
    "version": 3
   },
   "file_extension": ".py",
   "mimetype": "text/x-python",
   "name": "python",
   "nbconvert_exporter": "python",
   "pygments_lexer": "ipython3",
   "version": "3.11.9"
  }
 },
 "nbformat": 4,
 "nbformat_minor": 2
}
